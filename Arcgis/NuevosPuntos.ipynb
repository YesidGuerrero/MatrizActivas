{
 "cells": [
  {
   "cell_type": "code",
   "execution_count": null,
   "metadata": {},
   "outputs": [],
   "source": [
    "#Exporta la tabla de excel a arcgis\n",
    "Nueva=arcpy.conversion.ExcelToTable('C:/Users/yesid.guerrero/OneDrive - IGAC/Documentos/Storymaps/CodigoAutomatizacion/Nuevas/Nuevas2024.xls', 'Nueva')"
   ]
  },
  {
   "cell_type": "code",
   "execution_count": null,
   "metadata": {},
   "outputs": [],
   "source": [
    "#ESTE COMANDO CREA UN CAMPO LLAMADO \"FMateriali\"\n",
    "#A la tabla \"Nueva\" se le agrega una columna llamada \"FMateriali\" tipo DATE\n",
    "#Calcula el campo FMaterializacion, restando las fechas julianas\n",
    "arcpy.management.AddField(Nueva, \"FMateriali\", \"DATE\")\n",
    "arcpy.management.CalculateField(Nueva,\"FMateriali\",\"!FechaJuliana!-2415019\")"
   ]
  },
  {
   "cell_type": "code",
   "execution_count": null,
   "metadata": {},
   "outputs": [],
   "source": [
    "#Convertimos la tabla de coordenadas a shape de puntos\n",
    "#Primer atributo la tabla que contiene las coordenadas, segundo atributo campo longitud en decimales, tercero formato de coordenadas, cuarto latitud en decimales\n",
    "Nuevos=arcpy.defense.CoordinateTableToPoint(Nueva, \"Nuevos\", \"londec\", \"DD_2\", \"latdec\")"
   ]
  },
  {
   "cell_type": "code",
   "execution_count": null,
   "metadata": {},
   "outputs": [],
   "source": [
    "#Exportamos el shape RESULTADO. \n",
    "#Primer atributo es el shape a exportar, el segundo es la ruta donde se va a guardar el shape\n",
    "arcpy.conversion.ExportFeatures(Nuevos, 'C:/Users/yesid.guerrero/OneDrive - IGAC/Documentos/Storymaps/TREAL02_04_2024TODAS/TREAL5/nuevas2024')"
   ]
  },
  {
   "cell_type": "code",
   "execution_count": null,
   "metadata": {},
   "outputs": [],
   "source": [
    "#Organizamos la tabla manteniendo solo los campos necesarios\n",
    "fields=[\"MRTNomencl\", \"MDANMNombr\", \"DeNombre\", \"FMateriali\",\"RedGeoAc_R\", \"Latitud\", \"Longitud\", \"AlturaElip\", \"Divipola\", \"Nota_Aclar\", \"PERMITE_TI\", \"COBERTURA\",\"Mant_ENERO\", \"Mant_FEBRE\", \"Mant_MARZO\"]\n",
    "arcpy.management.DeleteField(\"C:/Users/yesid.guerrero/OneDrive - IGAC/Documentos/Storymaps/TREAL02_04_2024TODAS/TREAL5/NUEVAS2024.shp\", fields, \"KEEP_FIELDS\")"
   ]
  },
  {
   "cell_type": "code",
   "execution_count": null,
   "metadata": {},
   "outputs": [],
   "source": [
    "#Unimos la tabla existente con los nuevas estaciones\n",
    "arcpy.management.Merge([\"C:/Users/yesid.guerrero/OneDrive - IGAC/Documentos/Storymaps/TREAL02_04_2024TODAS/TREAL4/ESTACIONESTREAL.shp\", \"nuevas2024\"],\"ESTACIONESTREAL2.shp\")"
   ]
  }
 ],
 "metadata": {
  "kernelspec": {
   "display_name": "Python 3",
   "language": "python",
   "name": "python3"
  },
  "language_info": {
   "name": "python",
   "version": "3.12.2"
  }
 },
 "nbformat": 4,
 "nbformat_minor": 2
}
