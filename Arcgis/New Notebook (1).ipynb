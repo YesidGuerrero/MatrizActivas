{
 "cells": [
  {
   "cell_type": "code",
   "execution_count": null,
   "metadata": {},
   "outputs": [],
   "source": [
    "arcpy.conversion.ExcelToTable('C:/Users/yesid.guerrero/OneDrive - IGAC/Documentos/Storymaps/tabla.xlsx', 'Activas')\n",
    "RESULTADO=arcpy.management.AddJoin('C:/Users/yesid.guerrero/OneDrive - IGAC/Documentos/Storymaps/TREAL02_04_2024TODAS/TREAL4/ESTACIONESTREAL.shp', 'MRTNomencl', 'Activas','F0' )"
   ]
  },
  {
   "cell_type": "code",
   "execution_count": 10,
   "metadata": {},
   "outputs": [
    {
     "data": {
      "text/html": [
       "<div class='gpresult'><h2>Messages</h2><div id='messages' data-messages='[\"Start Time: viernes, 10 de mayo de 2024 1:33:10 p.\\u00A0m.\",\"Succeeded at viernes, 10 de mayo de 2024 1:33:10 p.\\u00A0m. (Elapsed Time: 0,71 seconds)\"]' data-show='true'><div id = 'default' /></div></div>"
      ],
      "text/plain": [
       "<Result 'C:\\\\Users\\\\yesid.guerrero\\\\OneDrive - IGAC\\\\Documentos\\\\Storymaps\\\\TREAL02_04_2024TODAS\\\\TREAL5\\\\ESTACIONESTREAL.shp'>"
      ]
     },
     "execution_count": 10,
     "metadata": {},
     "output_type": "execute_result"
    }
   ],
   "source": [
    "arcpy.management.AddField(RESULTADO, \"COBERT_MTS\", \"DOUBLE\")"
   ]
  },
  {
   "cell_type": "code",
   "execution_count": 7,
   "metadata": {},
   "outputs": [
    {
     "ename": "TypeError",
     "evalue": "unsupported operand type(s) for -: 'function' and '_Helper'",
     "output_type": "error",
     "traceback": [
      "\u001b[0;31m---------------------------------------------------------------------------\u001b[0m\n\u001b[0;31mTypeError\u001b[0m                                 Traceback (most recent call last)",
      "In  \u001b[0;34m[7]\u001b[0m:\nLine \u001b[0;34m1\u001b[0m:     arcpy.management.CopyFeatures -help\u001b[37m\u001b[39;49;00m\n",
      "\u001b[0;31mTypeError\u001b[0m: unsupported operand type(s) for -: 'function' and '_Helper'\n\u001b[0;31m---------------------------------------------------------------------------\u001b[0m"
     ]
    }
   ],
   "source": [
    "arcpy.management.CalculateField(RESULTADO, \"COBERT_MTS\", \"!COBERTURA!*1000\")"
   ]
  },
  {
   "cell_type": "code",
   "execution_count": null,
   "metadata": {},
   "outputs": [],
   "source": [
    "arcpy.conversion.ExportFeatures(RESULTADO, 'C:/Users/yesid.guerrero/OneDrive - IGAC/Documentos/Storymaps/TREAL02_04_2024TODAS/TREAL5/ESTACIONESTREAL')"
   ]
  },
  {
   "cell_type": "code",
   "execution_count": null,
   "metadata": {},
   "outputs": [],
   "source": [
    "Zonas=arcpy.analysis.Buffer(RESULTADO, 'ZONAS_INFLUENCIA', 'COBERT_MTS')"
   ]
  },
  {
   "cell_type": "code",
   "execution_count": null,
   "metadata": {},
   "outputs": [],
   "source": [
    "arcpy.conversion.ExportFeatures(Zonas, 'C:/Users/yesid.guerrero/OneDrive - IGAC/Documentos/Storymaps/TREAL02_04_2024TODAS/Zonas/Zonas_influencia')"
   ]
  },
  {
   "cell_type": "code",
   "execution_count": null,
   "metadata": {},
   "outputs": [
    {
     "ename": "",
     "evalue": "",
     "output_type": "error",
     "traceback": [
      "\u001b[1;31mRunning cells with 'Python 3.12.2' requires the ipykernel package.\n",
      "\u001b[1;31mRun the following command to install 'ipykernel' into the Python environment. \n",
      "\u001b[1;31mCommand: 'c:/Users/yesid.guerrero/AppData/Local/Microsoft/WindowsApps/python3.12.exe -m pip install ipykernel -U --user --force-reinstall'"
     ]
    }
   ],
   "source": [
    "from arcgis.gis import GIS"
   ]
  }
 ],
 "metadata": {
  "kernelspec": {
   "display_name": "ArcGISPro",
   "language": "Python",
   "name": "python3"
  },
  "language_info": {
   "file_extension": ".py",
   "name": "python",
   "version": "3.12.2"
  }
 },
 "nbformat": 4,
 "nbformat_minor": 2
}
