{
 "cells": [
  {
   "cell_type": "code",
   "execution_count": null,
   "metadata": {},
   "outputs": [],
   "source": [
    "# Configurar el entorno, es necesario para que los nombres de las campos mantengan el nombre de la tabla original.\n",
    "arcpy.env.qualifiedFieldNames = False"
   ]
  },
  {
   "cell_type": "code",
   "execution_count": null,
   "metadata": {},
   "outputs": [],
   "source": [
    "#REORGANIZAMOS LA TABLA DE BUFFER, MANTENEMOS LOS CAMPOS NECESARIOS\n",
    "#Campos que queremos mantener\n",
    "fields=[\"MRTNomencl\", \"MDANMNombr\", \"DeNombre\", \"FMateriali\",\"RedGeoAc_R\", \"Latitud\", \"Longitud\", \"AlturaElip\", \"Divipola\", \"Nota_Aclar\", \"PERMITE_TI\", \"COBERT_MTS\",\"Mant_ENERO\", \"Mant_FEBRE\", \"Mant_MARZO\",\"ENERO\", \"FEBRERO\", \"MARZO\",\"ABRIL\", \"MAYO\"]\n",
    "#Codigo para mantener campos, el primer atributo es la ruta del shapefile que queremos organizar, el segundo es la matriz con las columnas que queremos mantener, y el tercero es el metodo en este caso mantener esas columnas.\n",
    "arcpy.management.DeleteField(\"C:/Users/yesid.guerrero/OneDrive - IGAC/Documentos/Storymaps/TREAL02_04_2024TODAS/Zonas/Zonas_influencia.shp\", fields, \"KEEP_FIELDS\")"
   ]
  },
  {
   "cell_type": "code",
   "execution_count": 10,
   "metadata": {},
   "outputs": [
    {
     "data": {
      "text/html": [
       "<div class='gpresult'><h2>Messages</h2><div id='messages' data-messages='[\"Start Time: viernes, 10 de mayo de 2024 1:33:10 p.\\u00A0m.\",\"Succeeded at viernes, 10 de mayo de 2024 1:33:10 p.\\u00A0m. (Elapsed Time: 0,71 seconds)\"]' data-show='true'><div id = 'default' /></div></div>"
      ],
      "text/plain": [
       "<Result 'C:\\\\Users\\\\yesid.guerrero\\\\OneDrive - IGAC\\\\Documentos\\\\Storymaps\\\\TREAL02_04_2024TODAS\\\\TREAL5\\\\ESTACIONESTREAL.shp'>"
      ]
     },
     "execution_count": 10,
     "metadata": {},
     "output_type": "execute_result"
    }
   ],
   "source": [
    "#ESTE COMANDO SE CORRE SI NO EXISTE EL CAMPO DE COBERTURA EN METROS, SI EL CAMPO YA EXISTE NO ES NECESARIO EJECUTARLO.\n",
    "#Al shape RESULTADO se le agrega una columna llamada \"COBERT_MTS\" tipo double\n",
    "arcpy.management.AddField(RESULTADO, \"COBERT_MTS\", \"DOUBLE\")"
   ]
  },
  {
   "cell_type": "code",
   "execution_count": null,
   "metadata": {},
   "outputs": [],
   "source": [
    "#ESTE COMANDO SE EJECUTA SOLO SI NO EXISTE EL CAMPO DE COBERTURA EN KM\n",
    "#Este comando calcula el campo \"COBERT_MTS\", para ello utiliza el campo \"COBERTURA\" que esta en km.\n",
    "arcpy.management.CalculateField(RESULTADO, \"COBERT_MTS\", \"!COBERTURA!*1000\")"
   ]
  },
  {
   "cell_type": "code",
   "execution_count": null,
   "metadata": {},
   "outputs": [],
   "source": [
    "#Exportamos el shape RESULTADO. \n",
    "#Primer atributo es el shape a exportar, el segundo es la ruta donde se va a guardar el shape\n",
    "arcpy.conversion.ExportFeatures(RESULTADO, 'C:/Users/yesid.guerrero/OneDrive - IGAC/Documentos/Storymaps/TREAL02_04_2024TODAS/TREAL5/ESTACIONESTREAL')"
   ]
  },
  {
   "cell_type": "code",
   "execution_count": null,
   "metadata": {},
   "outputs": [],
   "source": [
    "#Creamos un shape en la variable Zonas, con el buffer sobre cada estacion\n",
    "#Primer atributo es el shape sobre el que se realizara el buffer, el segundo es el nombre del shape obtenido, el tercero es el campo con el que se realizara el shape\n",
    "Zonas=arcpy.analysis.Buffer(RESULTADO, 'ZONAS_INFLUENCIA', 'COBERT_MTS')"
   ]
  },
  {
   "cell_type": "code",
   "execution_count": null,
   "metadata": {},
   "outputs": [],
   "source": [
    "#Exportamos el shape\n",
    "arcpy.conversion.ExportFeatures(Zonas, 'C:/Users/yesid.guerrero/OneDrive - IGAC/Documentos/Storymaps/TREAL02_04_2024TODAS/Zonas/Zonas_influencia')"
   ]
  },
  {
   "cell_type": "code",
   "execution_count": null,
   "metadata": {},
   "outputs": [],
   "source": [
    "#REORGANIZAMOS LA TABLA, MANTENEMOS LOS CAMPOS NECESARIOS\n",
    "#Campos que queremos mantener\n",
    "fields=[\"MRTNomencl\", \"MDANMNombr\", \"DeNombre\", \"FMateriali\",\"RedGeoAc_R\", \"Latitud\", \"Longitud\", \"AlturaElip\", \"Divipola\", \"Nota_Aclar\", \"PERMITE_TI\", \"COBERT_MTS\",\"Mant_ENERO\", \"Mant_FEBRE\", \"Mant_MARZO\",\"ENERO\", \"FEBRERO\", \"MARZO\",\"ABRIL\", \"MAYO\"]\n",
    "#Codigo para mantener campos, el primer atributo es la ruta del shapefile que queremos organizar, el segundo es la matriz con las columnas que queremos mantener, y el tercero es el metodo en este caso mantener esas columnas.\n",
    "arcpy.management.DeleteField(\"C:/Users/yesid.guerrero/OneDrive - IGAC/Documentos/Storymaps/TREAL02_04_2024TODAS/TREAL5/ESTACIONESTREAL.shp\", fields, \"KEEP_FIELDS\")"
   ]
  },
  {
   "cell_type": "code",
   "execution_count": null,
   "metadata": {},
   "outputs": [],
   "source": [
    "#REORGANIZAMOS LA TABLA DE BUFFER, MANTENEMOS LOS CAMPOS NECESARIOS\n",
    "#Campos que queremos mantener\n",
    "fields=[\"MRTNomencl\", \"MDANMNombr\", \"DeNombre\", \"FMateriali\",\"RedGeoAc_R\", \"Latitud\", \"Longitud\", \"AlturaElip\", \"Divipola\", \"Nota_Aclar\", \"PERMITE_TI\", \"COBERT_MTS\",\"Mant_ENERO\", \"Mant_FEBRE\", \"Mant_MARZO\",\"ENERO\", \"FEBRERO\", \"MARZO\",\"ABRIL\", \"MAYO\"]\n",
    "#Codigo para mantener campos, el primer atributo es la ruta del shapefile que queremos organizar, el segundo es la matriz con las columnas que queremos mantener, y el tercero es el metodo en este caso mantener esas columnas.\n",
    "arcpy.management.DeleteField(\"C:/Users/yesid.guerrero/OneDrive - IGAC/Documentos/Storymaps/TREAL02_04_2024TODAS/Zonas/Zonas_influencia.shp\", fields, \"KEEP_FIELDS\")"
   ]
  }
 ],
 "metadata": {
  "kernelspec": {
   "display_name": "ArcGISPro",
   "language": "Python",
   "name": "python3"
  },
  "language_info": {
   "file_extension": ".py",
   "name": "python",
   "version": "3"
  }
 },
 "nbformat": 4,
 "nbformat_minor": 2
}
